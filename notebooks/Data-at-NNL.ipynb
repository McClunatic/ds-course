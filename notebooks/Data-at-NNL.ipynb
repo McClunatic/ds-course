{
 "cells": [
  {
   "cell_type": "markdown",
   "id": "9a730fde",
   "metadata": {
    "slideshow": {
     "slide_type": "slide"
    }
   },
   "source": [
    "# Data@NNL\n",
    "\n",
    "Presented by: Brian McClune and Austin Stegall"
   ]
  },
  {
   "cell_type": "markdown",
   "id": "e6223cea",
   "metadata": {
    "slideshow": {
     "slide_type": "slide"
    }
   },
   "source": [
    "# Outline\n",
    "\n",
    "1. Introduction\n",
    "2. "
   ]
  },
  {
   "cell_type": "markdown",
   "id": "7a76cb58",
   "metadata": {
    "slideshow": {
     "slide_type": "notes"
    }
   },
   "source": [
    "1. Introduction\n",
    "\n",
    "In this section, we cover some basics up front:\n",
    "\n",
    "* What is data science?\n",
    "    * It's using data to answer questions\n",
    "    * It can involve:\n",
    "        * Statistics, computer science, mathematics\n",
    "        * Data cleaning and formatting\n",
    "        * Data visualization\n",
    "      \n",
    "[ The Data Science Venn Diagram](https://drewconway.com/zia/2013/3/26/the-data-science-venn-diagram)\n",
    "\n",
    "* What is data?\n",
    "    * \"Data are individual facts, statistics, or items of information, often numeric.\n",
    "      In a more technical sense, data are a set of values of qualitative or\n",
    "      quantitative variables about one or more persons or objects...\"\n",
    "    * Key points:\n",
    "        * A *set* of values\n",
    "        * Comprised of *variables*\n",
    "        * Describing *qualitative* or *quantitative* characteristics or measures of\n",
    "          a person or object\n",
    "\n",
    "[Data](https://en.wikipedia.org/wiki/Data)\n",
    "\n",
    "* What is big data?\n",
    "    * \"Data that exceeds the processing capacity of conventional database systems.\"\n",
    "    * The characteristics of big data:\n",
    "        * Volume\n",
    "        * Velocity\n",
    "        * Variety\n",
    "  \n",
    "[Volume, Velocity, Variety: What You Need to Know About Big Data](https://www.forbes.com/sites/oreillymedia/2012/01/19/volume-velocity-variety-what-you-need-to-know-about-big-data/?sh=67a336ef1b6d)\n",
    "\n",
    "* What does data look like?\n",
    "    * Sequencing data (e.g. for DNA)\n",
    "    * Census data\n",
    "    * Medical records data\n",
    "    * Geographical information system (GIS) data\n",
    "    * Image data\n",
    "    * Language data\n",
    "    * Website data (e.g. traffic history)\n",
    "    * Audio data \n",
    "    * Video data"
   ]
  },
  {
   "cell_type": "code",
   "execution_count": null,
   "id": "0fcf0583",
   "metadata": {},
   "outputs": [],
   "source": []
  }
 ],
 "metadata": {
  "celltoolbar": "Slideshow",
  "kernelspec": {
   "display_name": "Python 3 (ipykernel)",
   "language": "python",
   "name": "python3"
  },
  "language_info": {
   "codemirror_mode": {
    "name": "ipython",
    "version": 3
   },
   "file_extension": ".py",
   "mimetype": "text/x-python",
   "name": "python",
   "nbconvert_exporter": "python",
   "pygments_lexer": "ipython3",
   "version": "3.9.7"
  }
 },
 "nbformat": 4,
 "nbformat_minor": 5
}
