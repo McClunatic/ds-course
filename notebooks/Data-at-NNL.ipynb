{
 "cells": [
  {
   "cell_type": "markdown",
   "id": "eeafbf96",
   "metadata": {
    "slideshow": {
     "slide_type": "slide"
    }
   },
   "source": [
    "# Data@NNL\n",
    "\n",
    "Presented by: Brian McClune and Austin Stegall"
   ]
  },
  {
   "cell_type": "markdown",
   "id": "d47e3baa",
   "metadata": {
    "slideshow": {
     "slide_type": "slide"
    }
   },
   "source": [
    "# Outline\n",
    "\n",
    "1. Introduction\n",
    "2. Obtaining Data\n",
    "3. Scrubbing Data\n",
    "4. Exploring Data"
   ]
  },
  {
   "cell_type": "markdown",
   "id": "91a73ad6",
   "metadata": {
    "slideshow": {
     "slide_type": "slide"
    }
   },
   "source": [
    "# Introduction\n",
    "\n",
    "1. The Data in Data Science\n",
    "2. One Thing Before Data\n",
    "3. The Data Science Process"
   ]
  },
  {
   "cell_type": "markdown",
   "id": "ed994e2b",
   "metadata": {
    "slideshow": {
     "slide_type": "notes"
    }
   },
   "source": [
    "1. The Data in Data Science\n",
    "\n",
    "In this section, we cover some basics up front:\n",
    "\n",
    "* What is data science?\n",
    "    * It's using data to answer questions\n",
    "    * It can involve:\n",
    "        * Statistics, computer science, mathematics\n",
    "        * Data cleaning and formatting\n",
    "        * Data visualization\n",
    "      \n",
    "[ The Data Science Venn Diagram](https://drewconway.com/zia/2013/3/26/the-data-science-venn-diagram)\n",
    "\n",
    "* What is data?\n",
    "    * \"Data are individual facts, statistics, or items of information, often numeric.\n",
    "      In a more technical sense, data are a set of values of qualitative or\n",
    "      quantitative variables about one or more persons or objects...\"\n",
    "    * Key points:\n",
    "        * A *set* of values\n",
    "        * Comprised of *variables*\n",
    "        * Describing *qualitative* or *quantitative* characteristics or measures of\n",
    "          a person or object\n",
    "\n",
    "[Data](https://en.wikipedia.org/wiki/Data)\n",
    "\n",
    "* What is big data?\n",
    "    * \"Data that exceeds the processing capacity of conventional database systems.\"\n",
    "    * The characteristics of big data:\n",
    "        * Volume\n",
    "        * Velocity\n",
    "        * Variety\n",
    "  \n",
    "[Volume, Velocity, Variety: What You Need to Know About Big Data](https://www.forbes.com/sites/oreillymedia/2012/01/19/volume-velocity-variety-what-you-need-to-know-about-big-data/?sh=67a336ef1b6d)\n",
    "\n",
    "* What does data look like?\n",
    "    * Sequencing data (e.g. for DNA)\n",
    "    * Census data\n",
    "    * Medical records data\n",
    "    * Geographical information system (GIS) data\n",
    "    * Language data (e.g. free form text and documents)\n",
    "    * Website data (e.g. traffic history)\n",
    "    * Audio data \n",
    "    * Video data\n",
    "    * Sensor data\n",
    "    * Network data\n",
    "    * ..."
   ]
  },
  {
   "cell_type": "markdown",
   "id": "a021b356",
   "metadata": {
    "slideshow": {
     "slide_type": "notes"
    }
   },
   "source": [
    "2. One Thing Before Data\n",
    "\n",
    "In this section, we stress that the data is important, but it is secondary.\n",
    "The question they want to answer is primary. Depending upon the\n",
    "of question, your requirements of data can differ and the *type* of\n",
    "analysis can too.\n",
    "\n",
    "It is also the first dimension in which we orient our audience: we\n",
    "aren't covering modeling here. But the analyses that precede modeling\n",
    "(which begins with number 3 below) are relevant here.\n",
    "\n",
    "Type of analyses (in rough order of difficulty):\n",
    "\n",
    "1. Descriptive\n",
    "    * Goal is to describe or summarize a set of data\n",
    "    * Common descriptive statistics:\n",
    "        * Measures of central tendency (e.g., mean, median)\n",
    "        * Measures of variability (e.g., range, standard deviation)\n",
    "2. Exploratory\n",
    "    * Goal is to explore data and find relationships\n",
    "    * Often used as a step to form or reinforce hypotheses before further analysis\n",
    "3. Inferential\n",
    "    * Goal is to understand the impact of input variables to some outcome\n",
    "4. Predictive\n",
    "    * Goal is to understand how input variables can be used to predict some outcome\n",
    "5. Causal\n",
    "    * Goal is to understand what happens to one variable when we manipulate another\n",
    "    * Hard to do with observed data alone; typically done as part of designed studies\n",
    "6. Mechanistic\n",
    "    * \"[The] goal of mechanistic analysis is to understand the exact changes in\n",
    "      variables that lead to exact changes in other variables. These analyses are\n",
    "      exceedingly hard to use to infer much, except in simple situations or in those\n",
    "      that are nicely modeled by deterministic equations.\"\n",
    "      (Coursera: The Data Scientist's Toolbox, Johns Hopkins)\n",
    "\n",
    "[Good discussions distinguishing inference and prediction](https://stats.stackexchange.com/questions/244017/what-is-the-difference-between-prediction-and-inference)"
   ]
  },
  {
   "cell_type": "markdown",
   "id": "addbc55b",
   "metadata": {
    "slideshow": {
     "slide_type": "notes"
    }
   },
   "source": [
    "3. The Data Science Process\n",
    "\n",
    "In this section, we present to the audience the *data science process*.\n",
    "\n",
    "We also use this as a second dimension for orienting our audience: we\n",
    "aren't covering modeling and interpretation here, but we do need to\n",
    "familiarize them with:\n",
    "\n",
    "* How to obtain data depending upon its format and location\n",
    "* Not how to scrub, but what characteristics of data they might need\n",
    "  to consider when going to scrub for a specific problem\n",
    "* Not how to explore, but some basic exploration (either descriptive\n",
    "  or visual) that they might consider for a specific problem\n",
    "\n",
    "* The Data Science Process\n",
    "    * An acronym introduced by Hilary Mason in 2010: OSEMN (rhymes with \"possum\")\n",
    "        * **O**btain\n",
    "        * **S**crub\n",
    "        * **E**xplore\n",
    "        * **M**odel\n",
    "        * i**N**terpret\n",
    "\n",
    "[A Taxonomy of Data Science](http://www.dataists.com/2010/09/a-taxonomy-of-data-science/)"
   ]
  },
  {
   "cell_type": "markdown",
   "id": "f8ebee1e",
   "metadata": {
    "slideshow": {
     "slide_type": "slide"
    }
   },
   "source": [
    "# Obtaining Data\n",
    "\n",
    "1. Data sources\n",
    "2. Data formats\n",
    "3. Techniques"
   ]
  },
  {
   "cell_type": "markdown",
   "id": "6014c2e2",
   "metadata": {
    "slideshow": {
     "slide_type": "notes"
    }
   },
   "source": [
    "1. Data sources\n",
    "\n",
    "In this section, we provide an overview for the audience: where\n",
    "might they find data? The intent is twofold:\n",
    "\n",
    "* Help audience members understand how many places they might find\n",
    "  data at the laboratory\n",
    "* Motivate the next topic of discussion: data formats"
   ]
  },
  {
   "cell_type": "markdown",
   "id": "7ffaa452",
   "metadata": {
    "slideshow": {
     "slide_type": "notes"
    }
   },
   "source": [
    "2. Data formats\n",
    "\n",
    "In this section, we provide an overview of some of the data formats\n",
    "audience members might encounter as data scientists at the laboratory.\n",
    "\n",
    "Some examples:\n",
    "\n",
    "* Excel\n",
    "* CSV\n",
    "* JSON (web API)\n",
    "* YAML\n",
    "* XML\n",
    "* HTML (web scraping)\n",
    "* HDF5\n",
    "* DB (Oracle, SQL Server, Hadoop)\n",
    "* Serialized binary formats\n",
    "    * Pickle (`.pkl`)\n",
    "    * NumPy binary format (`.npy`)\n",
    "    * Protobuf (`.proto`)\n",
    "    * TensorFlow TFRecord (`.tfrec`)\n",
    "    * R RDS (`.rds`)\n",
    "    * ..."
   ]
  },
  {
   "cell_type": "markdown",
   "id": "637dd837",
   "metadata": {
    "slideshow": {
     "slide_type": "notes"
    }
   },
   "source": [
    "3. Techniques\n",
    "\n",
    "In this section we provide just a look at code examples for\n",
    "obtaining data (in its raw format, prior to any cleaning) from the\n",
    "variety of sources and formats introduced. The intentions here\n",
    "are to:\n",
    "\n",
    "* Illustrate what different approaches look like to obtain data\n",
    "  depending upon its source and format\n",
    "* Demystify for the audience the process of doing so"
   ]
  },
  {
   "cell_type": "markdown",
   "id": "8fb6cc77",
   "metadata": {
    "slideshow": {
     "slide_type": "slide"
    }
   },
   "source": [
    "# Scrubbing Data\n",
    "\n",
    "1. Subsetting and sorting\n",
    "2. Reshaping\n",
    "3. Splitting and merging\n",
    "4. Handling missing values\n",
    "5. Working with text\n",
    "6. Working with dates"
   ]
  },
  {
   "cell_type": "markdown",
   "id": "dfcd0892",
   "metadata": {
    "slideshow": {
     "slide_type": "notes"
    }
   },
   "source": [
    "In this section, we introduce the various kinds of operations the audience\n",
    "may perform as part of scrubbing data ahead of their analyses. The\n",
    "above list was inspired by the Data Science Specialization Course 3, \n",
    "[Getting and Cleaning Data](https://www.coursera.org/learn/data-cleaning/home/week/3), and by the\n",
    "[tidyr Cheat Sheet](https://leadousset.github.io/intro-to-R/cheatsheet_tidy.pdf).\n",
    "\n",
    "A note to the audience about the relationship between scrubbing and\n",
    "exploring data as we enter this section: the progression isn't\n",
    "entirely sequential. For new data, you may explore before you do\n",
    "scrubbing. You will likely iterate either way."
   ]
  },
  {
   "cell_type": "markdown",
   "id": "9b88cd82",
   "metadata": {
    "slideshow": {
     "slide_type": "slide"
    }
   },
   "source": [
    "# Exploring Data\n",
    "\n",
    "1. First steps\n",
    "2. Principles for visualization\n",
    "3. Exploratory visualizations"
   ]
  },
  {
   "cell_type": "markdown",
   "id": "5982763b",
   "metadata": {
    "slideshow": {
     "slide_type": "notes"
    }
   },
   "source": [
    "1. First steps\n",
    "\n",
    "In this section, we suggest some first steps for a data scientist\n",
    "exploring a data set. Some suggestions:\n",
    "\n",
    "* Summarize or describe the data (`len()`, `describe()`)\n",
    "* Look at the top and bottom (`head()` and `tail()`)\n",
    "* Do some counting (`count()`, `groupby()`)\n",
    "    * Confirm total data set size matches expectations\n",
    "    * Confirm qualitative or categorical variables match expectations\n",
    "      and explore potential class imbalance"
   ]
  },
  {
   "cell_type": "markdown",
   "id": "7bd7e89e",
   "metadata": {
    "slideshow": {
     "slide_type": "notes"
    }
   },
   "source": [
    "2. Principles for visualization\n",
    "\n",
    "In this section, we provide some principles for consideration\n",
    "before diving into the rest of the \"Exploring Data\" content, which\n",
    "focuses on exploration by visualization. We borrow from Roger\n",
    "Peng's *Exploratory Data Analysis with R* and from Tufte's\n",
    "*Beautiful Evidence* which suggest:\n",
    "\n",
    "1. Show comparisons, contrasts, differences.\n",
    "2. Show causality, mechanism, explanation, systematic structure.\n",
    "3. Show multivariate data; that is, show more than 1 or 2 variables.\n",
    "4. Completely integrate words, numbers, images, diagrams.\n",
    "5. Thoroughly describe the evidence. Provide a detailed title, indicate\n",
    "   the authors and sponsors, document the data sources, show complete\n",
    "   measurement scales, point out relevant issues.\n",
    "6. Analytical presentations ultimately stand or fall depending on the\n",
    "   quality, relevance, and integrity of their content.\n",
    "   \n",
    "[Principles of Graphics](https://www.youtube.com/watch?v=6lOvA_y7p7w)"
   ]
  },
  {
   "cell_type": "markdown",
   "id": "4c8bb16d",
   "metadata": {
    "slideshow": {
     "slide_type": "notes"
    }
   },
   "source": [
    "3. Exploratory visualizations\n",
    "\n",
    "In this section we tackle two objectives:\n",
    "\n",
    "* Help the audience understand the difference between these\n",
    "  exploratory visualizations and visualizations they may later make\n",
    "  to include as part of publication of their analyses or deployment\n",
    "  of their models.\n",
    "    * They are created to enhance personal understanding of the data\n",
    "    * Make a lot! And don't sweat polishing them\n",
    "* Introduce the audience to a variety of visualizations they might\n",
    "  use to better understand their data. Examples to cover:\n",
    "    * scatterplot\n",
    "    * boxplot\n",
    "    * histogram\n",
    "    * barplot\n",
    "    * pie chart\n",
    "    * correlation matrix\n",
    "    * ..."
   ]
  },
  {
   "cell_type": "code",
   "execution_count": null,
   "id": "d2622b96",
   "metadata": {},
   "outputs": [],
   "source": []
  }
 ],
 "metadata": {
  "celltoolbar": "Slideshow",
  "kernelspec": {
   "display_name": "Python 3 (ipykernel)",
   "language": "python",
   "name": "python3"
  },
  "language_info": {
   "codemirror_mode": {
    "name": "ipython",
    "version": 3
   },
   "file_extension": ".py",
   "mimetype": "text/x-python",
   "name": "python",
   "nbconvert_exporter": "python",
   "pygments_lexer": "ipython3",
   "version": "3.9.7"
  }
 },
 "nbformat": 4,
 "nbformat_minor": 5
}
