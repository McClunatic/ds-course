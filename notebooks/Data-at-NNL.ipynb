{
 "cells": [
  {
   "cell_type": "markdown",
   "id": "5207a8a1",
   "metadata": {
    "slideshow": {
     "slide_type": "slide"
    }
   },
   "source": [
    "# Data@NNL\n",
    "\n",
    "Presented by: Brian McClune and Austin Stegall"
   ]
  },
  {
   "cell_type": "markdown",
   "id": "a2dc3fcf",
   "metadata": {
    "slideshow": {
     "slide_type": "slide"
    }
   },
   "source": [
    "# Outline\n",
    "\n",
    "1. Introduction\n",
    "2. Obtaining Data at NNL"
   ]
  },
  {
   "cell_type": "markdown",
   "id": "720c85c3",
   "metadata": {
    "slideshow": {
     "slide_type": "subslide"
    }
   },
   "source": [
    "# Introduction\n",
    "\n",
    "1. The Data in Data Science\n",
    "2. One Thing Before Data\n",
    "3. The Data Science Process"
   ]
  },
  {
   "cell_type": "markdown",
   "id": "edffa9f4",
   "metadata": {
    "slideshow": {
     "slide_type": "notes"
    }
   },
   "source": [
    "1. The Data in Data Science\n",
    "\n",
    "In this section, we cover some basics up front:\n",
    "\n",
    "* What is data science?\n",
    "    * It's using data to answer questions\n",
    "    * It can involve:\n",
    "        * Statistics, computer science, mathematics\n",
    "        * Data cleaning and formatting\n",
    "        * Data visualization\n",
    "      \n",
    "[ The Data Science Venn Diagram](https://drewconway.com/zia/2013/3/26/the-data-science-venn-diagram)\n",
    "\n",
    "* What is data?\n",
    "    * \"Data are individual facts, statistics, or items of information, often numeric.\n",
    "      In a more technical sense, data are a set of values of qualitative or\n",
    "      quantitative variables about one or more persons or objects...\"\n",
    "    * Key points:\n",
    "        * A *set* of values\n",
    "        * Comprised of *variables*\n",
    "        * Describing *qualitative* or *quantitative* characteristics or measures of\n",
    "          a person or object\n",
    "\n",
    "[Data](https://en.wikipedia.org/wiki/Data)\n",
    "\n",
    "* What is big data?\n",
    "    * \"Data that exceeds the processing capacity of conventional database systems.\"\n",
    "    * The characteristics of big data:\n",
    "        * Volume\n",
    "        * Velocity\n",
    "        * Variety\n",
    "  \n",
    "[Volume, Velocity, Variety: What You Need to Know About Big Data](https://www.forbes.com/sites/oreillymedia/2012/01/19/volume-velocity-variety-what-you-need-to-know-about-big-data/?sh=67a336ef1b6d)\n",
    "\n",
    "* What does data look like?\n",
    "    * Sequencing data (e.g. for DNA)\n",
    "    * Census data\n",
    "    * Medical records data\n",
    "    * Geographical information system (GIS) data\n",
    "    * Language data (e.g. free form text and documents)\n",
    "    * Website data (e.g. traffic history)\n",
    "    * Audio data \n",
    "    * Video data\n",
    "    * Sensor data\n",
    "    * Network data\n",
    "    * ..."
   ]
  },
  {
   "cell_type": "markdown",
   "id": "378da365",
   "metadata": {
    "slideshow": {
     "slide_type": "notes"
    }
   },
   "source": [
    "2. One Thing Before Data\n",
    "\n",
    "In this section, we stress that the data is important, but it is secondary.\n",
    "The question they want to answer is primary. Depending upon the\n",
    "of question, your requirements of data can differ and the *type* of\n",
    "analysis can too.\n",
    "\n",
    "It is also the first dimension in which we orient our audience: we\n",
    "aren't covering modeling here. But the analyses that precede modeling\n",
    "(which begins with number 3 below) are relevant here.\n",
    "\n",
    "Type of analyses (in rough order of difficulty):\n",
    "\n",
    "1. Descriptive\n",
    "    * Goal is to describe or summarize a set of data\n",
    "    * Common descriptive statistics:\n",
    "        * Measures of central tendency (e.g., mean, median)\n",
    "        * Measures of variability (e.g., range, standard deviation)\n",
    "2. Exploratory\n",
    "    * Goal is to explore data and find relationships\n",
    "    * Often used as a step to form or reinforce hypotheses before further analysis\n",
    "3. Inferential\n",
    "    * Goal is to understand the impact of input variables to some outcome\n",
    "4. Predictive\n",
    "    * Goal is to understand how input variables can be used to predict some outcome\n",
    "5. Causal\n",
    "    * Goal is to understand what happens to one variable when we manipulate another\n",
    "    * Hard to do with observed data alone; typically done as part of designed studies\n",
    "6. Mechanistic\n",
    "    * \"[The] goal of mechanistic analysis is to understand the exact changes in\n",
    "      variables that lead to exact changes in other variables. These analyses are\n",
    "      exceedingly hard to use to infer much, except in simple situations or in those\n",
    "      that are nicely modeled by deterministic equations.\"\n",
    "      (Coursera: The Data Scientist's Toolbox, Johns Hopkins)\n",
    "\n",
    "[Good discussions distinguishing inference and prediction](https://stats.stackexchange.com/questions/244017/what-is-the-difference-between-prediction-and-inference)"
   ]
  },
  {
   "cell_type": "markdown",
   "id": "3ce364e5",
   "metadata": {
    "slideshow": {
     "slide_type": "notes"
    }
   },
   "source": [
    "3. The Data Science Process\n",
    "\n",
    "In this section, we present to the audience the *data science process*.\n",
    "\n",
    "We also use this as a second dimension for orienting our audience: we\n",
    "aren't covering modeling and interpretation here, but we do need to\n",
    "familiarize them with:\n",
    "\n",
    "* How to obtain data depending upon its format and location\n",
    "* Not how to scrub, but what characteristics of data they might need\n",
    "  to consider when going to scrub for a specific problem\n",
    "* Not how to explore, but some basic exploration (either descriptive\n",
    "  or visual) that they might consider for a specific problem\n",
    "\n",
    "* The Data Science Process\n",
    "    * An acronym introduced by Hilary Mason in 2010: OSEMN (rhymes with \"possum\")\n",
    "        * **O**btain\n",
    "        * **S**crub\n",
    "        * **E**xplore\n",
    "        * **M**odel\n",
    "        * i**N**terpret\n",
    "\n",
    "[A Taxonomy of Data Science](http://www.dataists.com/2010/09/a-taxonomy-of-data-science/)"
   ]
  },
  {
   "cell_type": "markdown",
   "id": "9a4cc7a6",
   "metadata": {
    "slideshow": {
     "slide_type": "slide"
    }
   },
   "source": [
    "# Obtaining Data at NNL"
   ]
  }
 ],
 "metadata": {
  "celltoolbar": "Slideshow",
  "kernelspec": {
   "display_name": "Python 3 (ipykernel)",
   "language": "python",
   "name": "python3"
  },
  "language_info": {
   "codemirror_mode": {
    "name": "ipython",
    "version": 3
   },
   "file_extension": ".py",
   "mimetype": "text/x-python",
   "name": "python",
   "nbconvert_exporter": "python",
   "pygments_lexer": "ipython3",
   "version": "3.9.7"
  }
 },
 "nbformat": 4,
 "nbformat_minor": 5
}
